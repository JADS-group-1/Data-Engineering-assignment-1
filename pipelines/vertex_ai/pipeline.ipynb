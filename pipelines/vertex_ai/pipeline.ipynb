{
 "cells": [
  {
   "cell_type": "code",
   "execution_count": 68,
   "metadata": {},
   "outputs": [],
   "source": [
    "PROJECT_ID = \"hardy-audio-435612-k2\"\n",
    "REGION = \"europe-west4\"\n",
    "BUCKET_NAME = \"jads-assignment-1-bucket\"\n",
    "PIPELINE_ROOT = f\"gs://{BUCKET_NAME}\"\n",
    "DATASET_FILE_NAME = \"salary.csv\" # The name of the dataset file in the bucket.\n",
    "PIPELINE_FILE_NAME = \"salary-predictor-pipeline.yaml\" # Any name, does not matter.\n",
    "SERVICE_ACCOUNT_NAME = \"assignment-1-pipeline@hardy-audio-435612-k2.iam.gserviceaccount.com\" # The email adres of the service account.\n"
   ]
  },
  {
   "cell_type": "code",
   "execution_count": 69,
   "metadata": {},
   "outputs": [],
   "source": [
    "from typing import NamedTuple\n",
    "from kfp import dsl, compiler\n",
    "from kfp.dsl import (Dataset,\n",
    "                        Input,\n",
    "                        Model,\n",
    "                        Output)\n",
    "import google.cloud.aiplatform as aip"
   ]
  },
  {
   "cell_type": "markdown",
   "metadata": {},
   "source": [
    "# Components"
   ]
  },
  {
   "cell_type": "code",
   "execution_count": 70,
   "metadata": {},
   "outputs": [],
   "source": [
    "@dsl.component(\n",
    "    packages_to_install=[\"google-cloud-storage\"],\n",
    "    base_image=\"python:3.10.11-slim\"\n",
    ")\n",
    "def download_data(project_id: str, bucket: str, file_name: str, dataset: Output[Dataset]):\n",
    "    from google.cloud import storage\n",
    "    import logging \n",
    "    import sys\n",
    "    \n",
    "    logging.basicConfig(stream=sys.stdout, level=logging.INFO)\n",
    "    \n",
    "    # Downloaing the file from a google bucket\n",
    "    client = storage.Client(project=project_id)\n",
    "    bucket = client.bucket(bucket)\n",
    "    blob = bucket.blob(file_name)\n",
    "    blob.download_to_filename(dataset.path + \".csv\")\n",
    "    logging.info('Downloaded Data!')"
   ]
  },
  {
   "cell_type": "code",
   "execution_count": 71,
   "metadata": {},
   "outputs": [],
   "source": [
    "@dsl.component(\n",
    "    packages_to_install=['pandas', \"scikit-learn\"],\n",
    "    base_image=\"python:3.10.11-slim\"\n",
    ")\n",
    "def train(features: Input[Dataset], out_model: Output[Model]) -> NamedTuple('outputs', metrics=dict):\n",
    "    import pandas as pd\n",
    "    import logging \n",
    "    import sys\n",
    "    import pickle\n",
    "    from sklearn.linear_model import LinearRegression\n",
    "    from sklearn.metrics import r2_score, mean_absolute_error, root_mean_squared_error\n",
    "        \n",
    "    logging.basicConfig(stream=sys.stdout, level=logging.INFO)\n",
    "    \n",
    "    df = pd.read_csv(features.path+\".csv\")\n",
    "    \n",
    "    logging.info(df.columns)\n",
    "    \n",
    "    X = pd.DataFrame(df[\"YearsExperience\"])\n",
    "    y = df[\"Salary\"]\n",
    "\n",
    "    model = LinearRegression().fit(X, y)\n",
    "\n",
    "    predictions = model.predict(X)\n",
    "    metrics_dict = {\n",
    "        \"r2\": r2_score(y, predictions),\n",
    "        \"MAE\": mean_absolute_error(y, predictions),\n",
    "        \"RMSE\": root_mean_squared_error(y, predictions),\n",
    "    }   \n",
    "    logging.info(metrics_dict)   \n",
    "    \n",
    "    # Save the model\n",
    "    out_model.metadata[\"file_type\"] = \".pkl\"\n",
    "    out_model.metadata[\"algo\"] = \"lr\"\n",
    "   # Save the model\n",
    "    m_file = out_model.path + \".pkl\"\n",
    "    with open(m_file, \"wb\") as f:\n",
    "        pickle.dump(model, f)\n",
    "        \n",
    "    outputs = NamedTuple('outputs', metrics=dict)\n",
    "    return outputs(metrics_dict)"
   ]
  },
  {
   "cell_type": "code",
   "execution_count": 72,
   "metadata": {},
   "outputs": [],
   "source": [
    "@dsl.component(\n",
    "    packages_to_install=[\"google-cloud-storage\"],\n",
    "    base_image=\"python:3.10.11-slim\"\n",
    ")\n",
    "def upload_model(project_id: str, model_repo: str, model: Input[Model]):\n",
    "    from google.cloud import storage   \n",
    "    import logging \n",
    "    import sys\n",
    "    \n",
    "    logging.basicConfig(stream=sys.stdout, level=logging.INFO)    \n",
    "  \n",
    "    # upload the model to GCS\n",
    "    client = storage.Client(project=project_id)\n",
    "    bucket = client.bucket(model_repo)\n",
    "    blob = bucket.blob(str(model.metadata[\"algo\"]) + '_model' + str(model.metadata[\"file_type\"])) \n",
    "    blob.upload_from_filename(model.path + str(model.metadata[\"file_type\"]))       \n",
    "    \n",
    "    logging.info(\"Saved the model to GCP bucket : \" + model_repo)"
   ]
  },
  {
   "cell_type": "markdown",
   "metadata": {},
   "source": [
    "# Pipeline"
   ]
  },
  {
   "cell_type": "code",
   "execution_count": 73,
   "metadata": {},
   "outputs": [],
   "source": [
    "@dsl.pipeline(\n",
    "    name=\"salary-predictor-pipeline\")\n",
    "def pipeline(project_id: str, data_bucket: str, trainset_filename: str, model_repo: str):\n",
    "    op_download_data = download_data(\n",
    "        project_id=project_id,\n",
    "        bucket=data_bucket,\n",
    "        file_name=trainset_filename\n",
    "    )\n",
    "\n",
    "    op_train = train(\n",
    "        features=op_download_data.outputs[\"dataset\"]\n",
    "    )\n",
    "    \n",
    "    upload_model(\n",
    "        project_id=project_id,\n",
    "        model_repo=model_repo,\n",
    "        model=op_train.outputs['out_model']\n",
    "    )"
   ]
  },
  {
   "cell_type": "markdown",
   "metadata": {},
   "source": [
    "## Compile the pipeline"
   ]
  },
  {
   "cell_type": "code",
   "execution_count": 74,
   "metadata": {},
   "outputs": [],
   "source": [
    "compiler.Compiler().compile(pipeline_func=pipeline, package_path=PIPELINE_FILE_NAME)"
   ]
  },
  {
   "cell_type": "markdown",
   "metadata": {},
   "source": [
    "## Submit the pipeline"
   ]
  },
  {
   "cell_type": "code",
   "execution_count": 75,
   "metadata": {},
   "outputs": [
    {
     "name": "stdout",
     "output_type": "stream",
     "text": [
      "env: GOOGLE_APPLICATION_CREDENTIALS=credentials.json\n",
      "Creating PipelineJob\n",
      "PipelineJob created. Resource name: projects/910815829910/locations/europe-west4/pipelineJobs/salary-predictor-pipeline-20241015155237\n",
      "To use this PipelineJob in another session:\n",
      "pipeline_job = aiplatform.PipelineJob.get('projects/910815829910/locations/europe-west4/pipelineJobs/salary-predictor-pipeline-20241015155237')\n",
      "View Pipeline Job:\n",
      "https://console.cloud.google.com/vertex-ai/locations/europe-west4/pipelines/runs/salary-predictor-pipeline-20241015155237?project=910815829910\n",
      "PipelineJob projects/910815829910/locations/europe-west4/pipelineJobs/salary-predictor-pipeline-20241015155237 current state:\n",
      "PipelineState.PIPELINE_STATE_RUNNING\n",
      "PipelineJob projects/910815829910/locations/europe-west4/pipelineJobs/salary-predictor-pipeline-20241015155237 current state:\n",
      "PipelineState.PIPELINE_STATE_RUNNING\n",
      "PipelineJob projects/910815829910/locations/europe-west4/pipelineJobs/salary-predictor-pipeline-20241015155237 current state:\n",
      "PipelineState.PIPELINE_STATE_RUNNING\n",
      "PipelineJob run completed. Resource name: projects/910815829910/locations/europe-west4/pipelineJobs/salary-predictor-pipeline-20241015155237\n"
     ]
    }
   ],
   "source": [
    "%env GOOGLE_APPLICATION_CREDENTIALS=credentials.json\n",
    "\n",
    "aip.init(\n",
    "    project=PROJECT_ID,\n",
    "    location=REGION\n",
    ")\n",
    "\n",
    "# Prepare the pipeline job\n",
    "job = aip.PipelineJob(\n",
    "    display_name=PIPELINE_FILE_NAME,\n",
    "    enable_caching=False,\n",
    "    template_path=PIPELINE_FILE_NAME,\n",
    "    pipeline_root=PIPELINE_ROOT,\n",
    "    location=REGION,\n",
    "    parameter_values={\n",
    "        'project_id': PROJECT_ID,\n",
    "        'data_bucket': BUCKET_NAME,\n",
    "        'model_repo': BUCKET_NAME,\n",
    "        'trainset_filename': DATASET_FILE_NAME \n",
    "    },\n",
    ")\n",
    "\n",
    "job.run(service_account=\"assignment-1-pipeline@hardy-audio-435612-k2.iam.gserviceaccount.com\")"
   ]
  }
 ],
 "metadata": {
  "kernelspec": {
   "display_name": ".venv",
   "language": "python",
   "name": "python3"
  },
  "language_info": {
   "codemirror_mode": {
    "name": "ipython",
    "version": 3
   },
   "file_extension": ".py",
   "mimetype": "text/x-python",
   "name": "python",
   "nbconvert_exporter": "python",
   "pygments_lexer": "ipython3",
   "version": "3.10.11"
  }
 },
 "nbformat": 4,
 "nbformat_minor": 2
}
